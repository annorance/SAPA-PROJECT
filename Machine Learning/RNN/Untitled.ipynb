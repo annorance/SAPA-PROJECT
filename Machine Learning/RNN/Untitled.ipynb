{
 "cells": [
  {
   "cell_type": "code",
   "execution_count": 5,
   "id": "fb000cfe-31bc-4be6-8981-0a5efd67a289",
   "metadata": {},
   "outputs": [
    {
     "name": "stdout",
     "output_type": "stream",
     "text": [
      "['datang', 'main', 'makan']\n"
     ]
    }
   ],
   "source": [
    "import numpy as np \n",
    "import pandas as pd \n",
    "import matplotlib.pyplot as plt\n",
    "import os\n",
    "\n",
    "dataset_path = os.listdir('data/kata kerja/train')\n",
    "\n",
    "label_types = os.listdir('data/kata kerja/test')\n",
    "print (label_types)  "
   ]
  },
  {
   "cell_type": "code",
   "execution_count": 7,
   "id": "c01eea45-0557-4f5e-8133-3549c5732ce7",
   "metadata": {},
   "outputs": [
    {
     "name": "stdout",
     "output_type": "stream",
     "text": [
      "      tag                           video_name\n",
      "0  datang  data/kata kerja/train/datang/25.jpg\n",
      "1  datang  data/kata kerja/train/datang/26.jpg\n",
      "2  datang  data/kata kerja/train/datang/27.jpg\n",
      "3  datang  data/kata kerja/train/datang/28.jpg\n",
      "4  datang  data/kata kerja/train/datang/29.jpg\n",
      "      tag                          video_name\n",
      "66  makan  data/kata kerja/train/makan/45.jpg\n",
      "67  makan  data/kata kerja/train/makan/46.jpg\n",
      "68  makan  data/kata kerja/train/makan/47.jpg\n",
      "69  makan  data/kata kerja/train/makan/48.jpg\n",
      "70  makan  data/kata kerja/train/makan/49.jpg\n"
     ]
    }
   ],
   "source": [
    "rooms = []\n",
    "\n",
    "for item in dataset_path:\n",
    " # Get all the file names\n",
    " all_rooms = os.listdir('data/kata kerja/train' + '/' +item)\n",
    "\n",
    " # Add them to the list\n",
    " for room in all_rooms:\n",
    "    rooms.append((item, str('data/kata kerja/train' + '/' +item) + '/' + room))\n",
    "    \n",
    "# Build a dataframe        \n",
    "train_df = pd.DataFrame(data=rooms, columns=['tag', 'video_name'])\n",
    "print(train_df.head())\n",
    "print(train_df.tail())"
   ]
  },
  {
   "cell_type": "code",
   "execution_count": null,
   "id": "e6657708-cb19-4ebf-8576-3bb5695abbe0",
   "metadata": {},
   "outputs": [],
   "source": [
    "df = train_df.loc[:,['video_name','tag']]\n",
    "df\n",
    "df.to_csv('train.csv')"
   ]
  }
 ],
 "metadata": {
  "kernelspec": {
   "display_name": "Python 3 (ipykernel)",
   "language": "python",
   "name": "python3"
  },
  "language_info": {
   "codemirror_mode": {
    "name": "ipython",
    "version": 3
   },
   "file_extension": ".py",
   "mimetype": "text/x-python",
   "name": "python",
   "nbconvert_exporter": "python",
   "pygments_lexer": "ipython3",
   "version": "3.12.5"
  }
 },
 "nbformat": 4,
 "nbformat_minor": 5
}
